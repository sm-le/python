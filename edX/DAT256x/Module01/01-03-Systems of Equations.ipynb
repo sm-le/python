{
 "cells": [
  {
   "cell_type": "markdown",
   "metadata": {},
   "source": [
    "# Systems of Equations\n",
    "Imagine you are at a casino, and you have a mixture of £10 and £25 chips. You know that you have a total of 16 chips, and you also know that the total value of chips you have is £250. Is this enough information to determine how many of each denomination of chip you have?\n",
    "\n",
    "Well, we can express each of the facts that we have as an equation. The first equation deals with the total number of chips - we know that this is 16, and that it is the number of £10 chips (which we'll call ***x*** ) added to the number of £25 chips (***y***).\n",
    "\n",
    "The second equation deals with the total value of the chips (£250), and we know that this is made up of ***x*** chips worth £10 and ***y*** chips worth £25.\n",
    "\n",
    "Here are the equations\n",
    "\n",
    "\\begin{equation}x + y = 16 \\end{equation}\n",
    "\\begin{equation}10x + 25y = 250 \\end{equation}\n",
    "\n",
    "Taken together, these equations form a *system of equations* that will enable us to determine how many of each chip denomination we have.\n",
    "\n",
    "## Graphing Lines to Find the Intersection Point\n",
    "One approach is to determine all possible values for x and y in each equation and plot them.\n",
    "\n",
    "A collection of 16 chips could be made up of 16 £10 chips and no £25 chips, no £10 chips and 16 £25 chips, or any combination between these.\n",
    "\n",
    "Similarly, a total of £250 could be made up of 25 £10 chips and no £25 chips, no £10 chips and 10 £25 chips, or a combination in between.\n",
    "\n",
    "Let's plot each of these ranges of values as lines on a graph:"
   ]
  },
  {
   "cell_type": "code",
   "execution_count": 1,
   "metadata": {},
   "outputs": [
    {
     "data": {
      "image/png": "[encoded data removed]",
      "text/plain": [
       "<Figure size 432x288 with 1 Axes>"
      ]
     },
     "metadata": {
      "needs_background": "light"
     },
     "output_type": "display_data"
    }
   ],
   "source": [
    "%matplotlib inline\n",
    "from matplotlib import pyplot as plt\n",
    "\n",
    "# Get the extremes for number of chips\n",
    "chipsAll10s = [16, 0]\n",
    "chipsAll25s = [0, 16]\n",
    "\n",
    "# Get the extremes for values\n",
    "valueAll10s = [25,0]\n",
    "valueAll25s = [0,10]\n",
    "\n",
    "# Plot the lines\n",
    "plt.plot(chipsAll10s,chipsAll25s, color='blue')\n",
    "plt.plot(valueAll10s, valueAll25s, color=\"orange\")\n",
    "plt.xlabel('x (£10 chips)')\n",
    "plt.ylabel('y (£25 chips)')\n",
    "plt.grid()\n",
    "\n",
    "plt.show()"
   ]
  },
  {
   "cell_type": "markdown",
   "metadata": {},
   "source": [
    "Looking at the graph, you can see that there is only a single combination of £10 and £25 chips that is on both the line for all possible combinations of 16 chips and the line for all possible combinations of £250. The point where the line intersects is (10, 6); or put another way, there are ten £10 chips and six £25 chips.\n",
    "\n",
    "### Solving a System of Equations with Elimination\n",
    "You can also solve a system of equations mathematically. Let's take a look at our two equations:\n",
    "\n",
    "\\begin{equation}x + y = 16 \\end{equation}\n",
    "\\begin{equation}10x + 25y = 250 \\end{equation}\n",
    "\n",
    "We can combine these equations to eliminate one of the variable terms and solve the resulting equation to find the value of one of the variables. Let's start by combining the equations and eliminating the x term.\n",
    "\n",
    "We can combine the equations by adding them together, but first, we need to manipulate one of the equations so that adding them will eliminate the x term. The first equation includes the term ***x***, and the second includes the term ***10x***, so if we multiply the first equation by -10, the two x terms will cancel each other out. So here are the equations with the first one multiplied by -10:\n",
    "\n",
    "\\begin{equation}-10(x + y) = -10(16) \\end{equation}\n",
    "\\begin{equation}10x + 25y = 250 \\end{equation}\n",
    "\n",
    "After we apply the multiplication to all of the terms in the first equation, the system of equations look like this:\n",
    "\n",
    "\\begin{equation}-10x + -10y = -160 \\end{equation}\n",
    "\\begin{equation}10x + 25y = 250 \\end{equation}\n",
    "\n",
    "Now we can combine the equations by adding them. The ***-10x*** and ***10x*** cancel one another, leaving us with a single equation like this:\n",
    "\n",
    "\\begin{equation}15y = 90 \\end{equation}\n",
    "\n",
    "We can isolate ***y*** by dividing both sides by 15:\n",
    "\n",
    "\\begin{equation}y = \\frac{90}{15} \\end{equation}\n",
    "\n",
    "So now we have a value for ***y***:\n",
    "\n",
    "\\begin{equation}y = 6 \\end{equation}\n",
    "\n",
    "So how does that help us? Well, now we have a value for ***y*** that satisfies both equations. We can simply use it in either of the equations to determine the value of ***x***. Let's use the first one:\n",
    "\n",
    "\\begin{equation}x + 6 = 16 \\end{equation}\n",
    "\n",
    "When we work through this equation, we get a value for ***x***:\n",
    "\n",
    "\\begin{equation}x = 10 \\end{equation}\n",
    "\n",
    "So now we've calculated values for ***x*** and ***y***, and we find, just as we did with the graphical intersection method, that there are ten £10 chips and six £25 chips.\n",
    "\n",
    "You can run the following Python code to verify that the equations are both true with an ***x*** value of 10 and a ***y*** value of 6."
   ]
  },
  {
   "cell_type": "code",
   "execution_count": 3,
   "metadata": {},
   "outputs": [
    {
     "name": "stdout",
     "output_type": "stream",
     "text": [
      "True\n"
     ]
    }
   ],
   "source": [
    "x = 10\n",
    "y = 6\n",
    "print ((x + y == 16) & ((10*x) + (25*y) == 250))"
   ]
  },
  {
   "cell_type": "code",
   "execution_count": 5,
   "metadata": {},
   "outputs": [
    {
     "name": "stdout",
     "output_type": "stream",
     "text": [
      "True\n"
     ]
    }
   ],
   "source": [
    "x=4\n",
    "print(2*(x+3)==14)"
   ]
  }
 ],
 "metadata": {
  "kernelspec": {
   "display_name": "Python 3",
   "language": "python",
   "name": "python3"
  },
  "language_info": {
   "codemirror_mode": {
    "name": "ipython",
    "version": 3
   },
   "file_extension": ".py",
   "mimetype": "text/x-python",
   "name": "python",
   "nbconvert_exporter": "python",
   "pygments_lexer": "ipython3",
   "version": "3.7.0"
  }
 },
 "nbformat": 4,
 "nbformat_minor": 2
}
